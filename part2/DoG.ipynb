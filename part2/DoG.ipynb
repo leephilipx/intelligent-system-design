{
 "cells": [
  {
   "cell_type": "code",
   "execution_count": 1,
   "metadata": {},
   "outputs": [],
   "source": [
    "import numpy as np\n",
    "from scipy.ndimage._filters import _gaussian_kernel1d"
   ]
  },
  {
   "cell_type": "code",
   "execution_count": 4,
   "metadata": {},
   "outputs": [
    {
     "data": {
      "text/plain": [
       "array([6.69162896e-05, 4.36349021e-04, 2.21596317e-03, 8.76430436e-03,\n",
       "       2.69959580e-02, 6.47599366e-02, 1.20987490e-01, 1.76035759e-01,\n",
       "       1.99474648e-01, 1.76035759e-01, 1.20987490e-01, 6.47599366e-02,\n",
       "       2.69959580e-02, 8.76430436e-03, 2.21596317e-03, 4.36349021e-04,\n",
       "       6.69162896e-05])"
      ]
     },
     "execution_count": 4,
     "metadata": {},
     "output_type": "execute_result"
    }
   ],
   "source": [
    "# Generate a 1D Gaussian kernel\n",
    "\n",
    "Gauss_kernel1D = _gaussian_kernel1d(sigma=2, order=0, radius=8)\n",
    "Gauss_kernel1D"
   ]
  },
  {
   "cell_type": "code",
   "execution_count": 3,
   "metadata": {},
   "outputs": [
    {
     "data": {
      "text/plain": [
       "array([ 0.00013383,  0.00076361,  0.00332394,  0.01095538,  0.02699596,\n",
       "        0.04856995,  0.06049374,  0.04400894,  0.        , -0.04400894,\n",
       "       -0.06049374, -0.04856995, -0.02699596, -0.01095538, -0.00332394,\n",
       "       -0.00076361, -0.00013383])"
      ]
     },
     "execution_count": 3,
     "metadata": {},
     "output_type": "execute_result"
    }
   ],
   "source": [
    "# Generate a 1D Derivative of Gaussian kernel, using actual DoG formula\n",
    "\n",
    "DoG_kernel1D = _gaussian_kernel1d(sigma=2, order=1, radius=8)\n",
    "DoG_kernel1D"
   ]
  },
  {
   "cell_type": "code",
   "execution_count": 7,
   "metadata": {},
   "outputs": [
    {
     "data": {
      "text/plain": [
       "array([ 0.0019664 ,  0.00571941,  0.02216379,  0.06594879,  0.14902522,\n",
       "        0.25014646,  0.29614639,  0.20888355,  0.        , -0.20888355,\n",
       "       -0.29614639, -0.25014646, -0.14902522, -0.06594879, -0.02216379,\n",
       "       -0.00571941, -0.0019664 ])"
      ]
     },
     "execution_count": 7,
     "metadata": {},
     "output_type": "execute_result"
    }
   ],
   "source": [
    "# Generate a 1D Derivative of Gaussian kernel, using the numerical derivative approximation of the Gaussian kernel\n",
    "\n",
    "DoG_kernel1D = np.gradient(Gauss_kernel1D)\n",
    "pos_indices, neg_indices = np.where(DoG_kernel1D > 0), np.where(DoG_kernel1D < 0)\n",
    "DoG_kernel1D[pos_indices] = DoG_kernel1D[pos_indices] / np.sum(DoG_kernel1D[pos_indices])\n",
    "DoG_kernel1D[neg_indices] = DoG_kernel1D[neg_indices] / np.abs(np.sum(DoG_kernel1D[neg_indices]))\n",
    "\n",
    "DoG_kernel1D"
   ]
  },
  {
   "cell_type": "code",
   "execution_count": null,
   "metadata": {},
   "outputs": [],
   "source": []
  }
 ],
 "metadata": {
  "kernelspec": {
   "display_name": "ee4208",
   "language": "python",
   "name": "python3"
  },
  "language_info": {
   "codemirror_mode": {
    "name": "ipython",
    "version": 3
   },
   "file_extension": ".py",
   "mimetype": "text/x-python",
   "name": "python",
   "nbconvert_exporter": "python",
   "pygments_lexer": "ipython3",
   "version": "3.9.16"
  },
  "orig_nbformat": 4
 },
 "nbformat": 4,
 "nbformat_minor": 2
}
