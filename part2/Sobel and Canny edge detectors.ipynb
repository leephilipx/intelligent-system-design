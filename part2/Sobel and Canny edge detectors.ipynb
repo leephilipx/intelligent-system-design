{
 "cells": [
  {
   "cell_type": "code",
   "execution_count": null,
   "metadata": {},
   "outputs": [],
   "source": [
    "import cv2\n",
    "import numpy as np\n",
    "from matplotlib import pyplot as plt"
   ]
  },
  {
   "cell_type": "code",
   "execution_count": null,
   "metadata": {},
   "outputs": [],
   "source": [
    "import os"
   ]
  },
  {
   "cell_type": "code",
   "execution_count": null,
   "metadata": {},
   "outputs": [],
   "source": [
    "import glob \n",
    "\n",
    "images = glob.glob(\"retina2/*bmp\")"
   ]
  },
  {
   "cell_type": "code",
   "execution_count": null,
   "metadata": {},
   "outputs": [],
   "source": [
    "dstpath = \"output\"\n",
    "os.makedirs(dstpath, exist_ok=True)"
   ]
  },
  {
   "cell_type": "code",
   "execution_count": null,
   "metadata": {},
   "outputs": [],
   "source": [
    "for path in images:\n",
    "    img = cv2.imread(path)\n",
    "    gray = cv2.cvtColor(img,cv2.COLOR_BGR2GRAY)\n",
    "    sobelX = cv2.Sobel(gray, cv2.CV_64F, 1, 0)\n",
    "    sobelY = cv2.Sobel(gray, cv2.CV_64F, 0, 1)\n",
    "\n",
    "    # sobelX = np.uint8(np.absolute(sobelX))\n",
    "    # sobelY = np.uint8(np.absolute(sobelY))\n",
    "\n",
    "    # sobelCombined = cv2.bitwise_or(sobelX, sobelY)\n",
    "\n",
    "    canny = cv2.Canny(gray,100,200)\n",
    "\n",
    "    out1 = dstpath + '/' + os.path.basename(path)[:-4] + '_sobelx.png'\n",
    "    out2 = dstpath + '/' + os.path.basename(path)[:-4] + '_sobely.png'\n",
    "    #out3 = dstpath + '/' + os.path.basename(path)[:-4] + '_sobelmag.png'\n",
    "    out4 = dstpath + '/' + os.path.basename(path)[:-4] + '_canny.png'\n",
    "\n",
    "    canny = np.repeat(np.expand_dims(canny, axis=2), 3, axis=2)\n",
    "    canny = canny * (0.5, 0.5, 1.0)\n",
    "\n",
    "    cv2.imwrite(out1,sobelX)\n",
    "    cv2.imwrite(out2,sobelY)\n",
    "    #cv2.imwrite(out3,sobelCombined)\n",
    "    cv2.imwrite(out4, canny)"
   ]
  }
 ],
 "metadata": {
  "kernelspec": {
   "display_name": "ee4208",
   "language": "python",
   "name": "python3"
  },
  "language_info": {
   "name": "python",
   "version": "3.8.16"
  },
  "orig_nbformat": 4
 },
 "nbformat": 4,
 "nbformat_minor": 2
}
