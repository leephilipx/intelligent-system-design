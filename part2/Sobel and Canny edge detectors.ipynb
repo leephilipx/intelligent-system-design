{
 "cells": [
  {
   "cell_type": "code",
   "execution_count": 1,
   "metadata": {},
   "outputs": [],
   "source": [
    "import cv2\n",
    "import numpy as np\n",
    "from matplotlib import pyplot as plt"
   ]
  },
  {
   "cell_type": "code",
   "execution_count": 2,
   "metadata": {},
   "outputs": [],
   "source": [
    "import os"
   ]
  },
  {
   "cell_type": "code",
   "execution_count": 3,
   "metadata": {},
   "outputs": [],
   "source": [
    "import glob \n",
    "\n",
    "images = glob.glob(\"retina2/*bmp\")"
   ]
  },
  {
   "cell_type": "code",
   "execution_count": 4,
   "metadata": {},
   "outputs": [],
   "source": [
    "dstpath = \"output\"\n",
    "os.makedirs(dstpath, exist_ok=True)"
   ]
  },
  {
   "cell_type": "code",
   "execution_count": 5,
   "metadata": {},
   "outputs": [],
   "source": [
    "for path in images:\n",
    "    img = cv2.imread(path)\n",
    "    gray = cv2.cvtColor(img,cv2.COLOR_BGR2GRAY)\n",
    "    sobelX = cv2.Sobel(gray, cv2.CV_64F, 1, 0)\n",
    "    sobelY = cv2.Sobel(gray, cv2.CV_64F, 0, 1)\n",
    "\n",
    "    # sobelX = np.uint8(np.absolute(sobelX))\n",
    "    # sobelY = np.uint8(np.absolute(sobelY))\n",
    "\n",
    "    sobelCombined = cv2.bitwise_or(sobelX, sobelY)\n",
    "\n",
    "    canny = cv2.Canny(gray,100,200)\n",
    "\n",
    "    out1 = dstpath + '/' + os.path.basename(path)[:-4] + '_sobelx.png'\n",
    "    out2 = dstpath + '/' + os.path.basename(path)[:-4] + '_sobely.png'\n",
    "    out3 = dstpath + '/' + os.path.basename(path)[:-4] + '_sobelmag.png'\n",
    "    out4 = dstpath + '/' + os.path.basename(path)[:-4] + '_canny.png'\n",
    "\n",
    "    canny = np.repeat(np.expand_dims(canny, axis=2), 3, axis=2)\n",
    "    canny = canny * (0.5, 0.5, 1.0)\n",
    "\n",
    "    cv2.imwrite(out1,sobelX)\n",
    "    cv2.imwrite(out2,sobelY)\n",
    "    cv2.imwrite(out3,sobelCombined)\n",
    "    cv2.imwrite(out4, canny)"
   ]
  },
  {
   "attachments": {},
   "cell_type": "markdown",
   "metadata": {},
   "source": [
    "Robert Edge Detection"
   ]
  },
  {
   "cell_type": "code",
   "execution_count": 6,
   "metadata": {},
   "outputs": [],
   "source": [
    "import sys\n",
    "from scipy import ndimage"
   ]
  },
  {
   "cell_type": "code",
   "execution_count": 7,
   "metadata": {},
   "outputs": [],
   "source": [
    "#Making the Robert's Crosses\n",
    "\n",
    "roberts_cross_v = np.array( [[1, 0 ], [0,-1 ]])\n",
    "\n",
    "roberts_cross_h = np.array( [[ 0, 1 ], [ -1, 0 ]])"
   ]
  },
  {
   "cell_type": "code",
   "execution_count": 9,
   "metadata": {},
   "outputs": [],
   "source": [
    "for path in images:\n",
    "    img = cv2.imread(path)\n",
    "    gray = cv2.cvtColor(img,cv2.COLOR_BGR2GRAY)\n",
    "    \n",
    "    vertical = ndimage.convolve( gray, roberts_cross_v )    #vertical = Gy\n",
    "    horizontal = ndimage.convolve( gray, roberts_cross_h )  #horizontal = Gx\n",
    "    robert_img = np.sqrt( np.square(horizontal) + np.square(vertical))   #Implementation of the G=(√(Gx^2)+(Gy^2))\n",
    "    img = (robert_img / robert_img.max() * 255).astype(np.uint8)\n",
    "    \n",
    "    out5 = dstpath + '/' + os.path.basename(path)[:-4] + '_Robert.png'\n",
    "    cv2.imwrite(out5, img)"
   ]
  }
 ],
 "metadata": {
  "kernelspec": {
   "display_name": "ee4208",
   "language": "python",
   "name": "python3"
  },
  "language_info": {
   "codemirror_mode": {
    "name": "ipython",
    "version": 3
   },
   "file_extension": ".py",
   "mimetype": "text/x-python",
   "name": "python",
   "nbconvert_exporter": "python",
   "pygments_lexer": "ipython3",
   "version": "3.8.16"
  },
  "orig_nbformat": 4
 },
 "nbformat": 4,
 "nbformat_minor": 2
}
