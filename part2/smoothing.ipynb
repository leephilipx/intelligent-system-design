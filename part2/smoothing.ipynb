{
 "cells": [
  {
   "cell_type": "code",
   "execution_count": 173,
   "metadata": {},
   "outputs": [
    {
     "name": "stdout",
     "output_type": "stream",
     "text": [
      "1.099 5.188\n",
      "105 210\n"
     ]
    },
    {
     "data": {
      "text/plain": [
       "True"
      ]
     },
     "execution_count": 173,
     "metadata": {},
     "output_type": "execute_result"
    }
   ],
   "source": [
    "import cv2\n",
    "import numpy as np\n",
    "\n",
    "sigma = 0.33\n",
    "\n",
    "img = cv2.imread('retina2/172.bmp')\n",
    "# gray = cv2.cvtColor(img,cv2.COLOR_BGR2GRAY)\n",
    "\n",
    "# smooth = cv2.imread('sample_172_201_Nwindow30.bmp')\n",
    "# smooth = cv2.imread('viz_outputs/retina2_ksize1_tavg5_172-176.bmp')\n",
    "# smooth = cv2.imread('viz_outputs/retina2_ksize1_tavg10_172-181.bmp')\n",
    "smooth = cv2.imread('viz_outputs/retina2_ksize1_tavg15_172-186.bmp')\n",
    "\n",
    "log_ir = np.log(smooth+1)\n",
    "v_min = log_ir.min()\n",
    "v_max = log_ir.max()\n",
    "print(v_min, v_max)\n",
    "\n",
    "smooth = ((log_ir/v_min)*255).astype(np.uint8)\n",
    "cv2.imwrite('viz_outputs/log.png', smooth)\n",
    "\n",
    "sobelX = cv2.Sobel(smooth, cv2.CV_64F, 1, 0)\n",
    "sobelY = cv2.Sobel(smooth, cv2.CV_64F, 0, 1)\n",
    "sobelX = np.uint8(np.absolute(sobelX))\n",
    "sobelY = np.uint8(np.absolute(sobelY))\n",
    "sobelCombined = cv2.bitwise_or(sobelX, sobelY)\n",
    "\n",
    "# auto canny\n",
    "v = np.median(smooth)\n",
    "# apply automatic Canny edge detection using the computed median\n",
    "lower = int(max(0, (1.0 - sigma) * v))\n",
    "upper = int(min(255, (1.0 + sigma) * v))\n",
    "\n",
    "# canny = cv2.Canny(smooth, lower, upper, 7)\n",
    "print(lower, upper)\n",
    "canny = cv2.Canny(smooth, 110, 300, 3)\n",
    "canny = np.repeat(np.expand_dims(canny, axis=2), 3, axis=2)\n",
    "canny = canny * (0.5, 0.5, 1.0)\n",
    "\n",
    "cv2.imwrite('viz_outputs/blur.png', smooth)\n",
    "cv2.imwrite('viz_outputs/canny.png', canny)\n",
    "cv2.imwrite('viz_outputs/sobel.png', sobelCombined)"
   ]
  },
  {
   "cell_type": "code",
   "execution_count": 10,
   "metadata": {},
   "outputs": [
    {
     "data": {
      "text/plain": [
       "True"
      ]
     },
     "execution_count": 10,
     "metadata": {},
     "output_type": "execute_result"
    }
   ],
   "source": [
    "dest = cv2.Laplacian(smooth, cv2.CV_16S, ksize=3)\n",
    "abs_dest = cv2.convertScaleAbs(dest)\n",
    "cv2.imwrite('viz_outputs/laplacian.png', abs_dest)"
   ]
  },
  {
   "cell_type": "code",
   "execution_count": null,
   "metadata": {},
   "outputs": [],
   "source": []
  }
 ],
 "metadata": {
  "kernelspec": {
   "display_name": "workspace",
   "language": "python",
   "name": "python3"
  },
  "language_info": {
   "codemirror_mode": {
    "name": "ipython",
    "version": 3
   },
   "file_extension": ".py",
   "mimetype": "text/x-python",
   "name": "python",
   "nbconvert_exporter": "python",
   "pygments_lexer": "ipython3",
   "version": "3.9.16"
  },
  "orig_nbformat": 4
 },
 "nbformat": 4,
 "nbformat_minor": 2
}
