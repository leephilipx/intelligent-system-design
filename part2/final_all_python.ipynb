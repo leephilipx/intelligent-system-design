{
 "cells": [
  {
   "cell_type": "code",
   "execution_count": 1,
   "metadata": {},
   "outputs": [],
   "source": [
    "import cv2\n",
    "import numpy as np\n",
    "import scipy\n",
    "import imageio\n",
    "import glob, os\n",
    "from skimage.registration import phase_cross_correlation\n",
    "from plot_utils import *\n",
    "from tqdm import tqdm\n",
    "\n",
    "image_paths = glob.glob('retina2/*.bmp')\n",
    "input_images = [cv2.imread(image_path, cv2.IMREAD_GRAYSCALE) for image_path in image_paths]"
   ]
  },
  {
   "cell_type": "code",
   "execution_count": 2,
   "metadata": {},
   "outputs": [],
   "source": [
    "def generate_gif(images, filename, shift=False):\n",
    "\n",
    "    with imageio.get_writer(filename, mode='I', fps=30) as writer:\n",
    "        \n",
    "        if shift:\n",
    "            first_image = images[0]\n",
    "            for image in tqdm(images, desc='Applying shifts'):\n",
    "                shift, error, diffphase = phase_cross_correlation(first_image, image, upsample_factor=100,\n",
    "                                                                  overlap_ratio=0.9, normalization=None)\n",
    "                writer.append_data(scipy.ndimage.shift(image, shift))\n",
    "        else:\n",
    "            for image in images:\n",
    "                writer.append_data(image)"
   ]
  },
  {
   "attachments": {},
   "cell_type": "markdown",
   "metadata": {},
   "source": [
    "### Temporal Averaging"
   ]
  },
  {
   "cell_type": "code",
   "execution_count": 3,
   "metadata": {},
   "outputs": [
    {
     "ename": "AssertionError",
     "evalue": "Set UNLOCK_LOOP to True to run the loop",
     "output_type": "error",
     "traceback": [
      "\u001b[1;31m---------------------------------------------------------------------------\u001b[0m",
      "\u001b[1;31mAssertionError\u001b[0m                            Traceback (most recent call last)",
      "\u001b[1;32m<ipython-input-3-d65c419638f5>\u001b[0m in \u001b[0;36m<module>\u001b[1;34m\u001b[0m\n\u001b[0;32m     17\u001b[0m '''\n\u001b[0;32m     18\u001b[0m \u001b[1;33m\u001b[0m\u001b[0m\n\u001b[1;32m---> 19\u001b[1;33m \u001b[1;32massert\u001b[0m \u001b[0mUNLOCK_LOOP\u001b[0m\u001b[1;33m,\u001b[0m \u001b[1;34m'Set UNLOCK_LOOP to True to run the loop'\u001b[0m\u001b[1;33m\u001b[0m\u001b[1;33m\u001b[0m\u001b[0m\n\u001b[0m\u001b[0;32m     20\u001b[0m \u001b[1;33m\u001b[0m\u001b[0m\n\u001b[0;32m     21\u001b[0m \u001b[1;33m\u001b[0m\u001b[0m\n",
      "\u001b[1;31mAssertionError\u001b[0m: Set UNLOCK_LOOP to True to run the loop"
     ]
    }
   ],
   "source": [
    "tavgN, label_offset = 20, 172\n",
    "UNLOCK_LOOP = False  # Set to True to run the loop\n",
    "\n",
    "output_dir = f'viz_outputs/tavg_{tavgN}'\n",
    "os.makedirs(output_dir, exist_ok=True)\n",
    "shifts = []\n",
    "\n",
    "'''\n",
    "1) For each image, we calculate the phase cross correlation with the previous tavgN images.\n",
    "2) We then shift the previous tavgN images by the calculated shifts.\n",
    "   The shift is calculate w.r.t. the last image to simulate averaging the image history.\n",
    "3) We then average the shifted images to get the temporal average.\n",
    "4) We then calculate the maximum and minimum shifts in the x and y directions.\n",
    "5) We then save the temporal average image and the shifts.\n",
    "\n",
    "Note: The shifts are saved as (shift_lr_pos, shift_lr_neg, shift_ud_pos, shift_ud_neg) which are used for masking later.\n",
    "'''\n",
    "\n",
    "assert UNLOCK_LOOP, 'Set UNLOCK_LOOP to True to run the loop'\n",
    "\n",
    "\n",
    "for i in tqdm(range(tavgN-1, len(input_images)), desc='Temporal averaging'):\n",
    "\n",
    "    last_image = input_images[i]\n",
    "    corrected_images = []\n",
    "\n",
    "    shift_lr_pos, shift_lr_neg = 0, 0\n",
    "    shift_ud_pos, shift_ud_neg = 0, 0\n",
    "\n",
    "    for j in range(tavgN):\n",
    "\n",
    "        offset_image = input_images[i-j]\n",
    "        shift, error, diffphase = phase_cross_correlation(last_image, offset_image, upsample_factor=100,\n",
    "                                                          overlap_ratio=0.9, normalization=None)\n",
    "        corrected_image = scipy.ndimage.shift(offset_image, shift)\n",
    "        corrected_images.append(corrected_image)\n",
    "\n",
    "        if shift[1] > 0:\n",
    "            shift_lr_pos = max(shift_lr_pos, shift[1])\n",
    "        else:\n",
    "            shift_lr_neg =  min(shift_lr_neg, shift[1])\n",
    "\n",
    "        if shift[0] > 0:\n",
    "            shift_ud_pos = max(shift_ud_pos, shift[0])\n",
    "        else:\n",
    "            shift_ud_neg = min(shift_ud_neg, shift[0])\n",
    "    \n",
    "    temporal = np.mean(corrected_images, axis=0).astype(np.uint8)\n",
    "    cv2.imwrite(f'{output_dir}/{i-tavgN+label_offset+1}-{i+label_offset}.bmp', temporal)\n",
    "\n",
    "    shift_lr_pos = int(shift_lr_pos) + 1\n",
    "    shift_lr_neg = int(shift_lr_neg) - 1\n",
    "    shift_ud_pos = int(shift_ud_pos) + 1\n",
    "    shift_ud_neg = int(shift_ud_neg) - 1\n",
    "\n",
    "    shift_lr_pos = shift_lr_pos if shift_lr_pos > 0 else 0\n",
    "    shift_lr_neg = shift_lr_neg if shift_lr_neg < 0 else -1\n",
    "    shift_ud_pos = shift_ud_pos if shift_ud_pos > 0 else 0\n",
    "    shift_ud_neg = shift_ud_neg if shift_ud_neg < 0 else -1\n",
    "\n",
    "    shifts.append((shift_lr_pos, shift_lr_neg, shift_ud_pos, shift_ud_neg))\n",
    "\n",
    "shifts = np.array(shifts)\n",
    "np.save(f'{output_dir}/shifts.npy', shifts)"
   ]
  },
  {
   "cell_type": "code",
   "execution_count": 4,
   "metadata": {},
   "outputs": [
    {
     "data": {
      "text/plain": [
       "(210, 4)"
      ]
     },
     "execution_count": 4,
     "metadata": {},
     "output_type": "execute_result"
    }
   ],
   "source": [
    "tavg_image_paths = glob.glob(f'{output_dir}/*.bmp')\n",
    "tavg_input_images = [cv2.imread(image_path, cv2.IMREAD_GRAYSCALE) for image_path in tavg_image_paths]\n",
    "\n",
    "np.load(f'{output_dir}/shifts.npy').shape"
   ]
  },
  {
   "attachments": {},
   "cell_type": "markdown",
   "metadata": {},
   "source": [
    "### Wiener Deconvolution\n",
    "\n",
    "Use MATLAB scripts to generate results `final_all_matlab.m`"
   ]
  },
  {
   "cell_type": "code",
   "execution_count": 5,
   "metadata": {},
   "outputs": [],
   "source": [
    "w_avg_image_paths = glob.glob('viz_outputs/tavg_20_matlab_edges/*.mat')\n",
    "w_avg_input_images = [scipy.io.loadmat(image_path)['wnr_avg'] for image_path in w_avg_image_paths]\n",
    "\n",
    "w_dsk_image_paths = glob.glob('viz_outputs/tavg_20_matlab_edges/*.mat')\n",
    "w_dsk_input_images = [scipy.io.loadmat(image_path)['wnr_dsk'] for image_path in w_dsk_image_paths]"
   ]
  },
  {
   "attachments": {},
   "cell_type": "markdown",
   "metadata": {},
   "source": [
    "### Generate GIF of images\n",
    "\n",
    "<img src=\"viz_outputs/retina2_original.gif\" alt=\"original\"/><br>\n",
    "<img src=\"viz_outputs/retina2_tvg_20_shifted.gif\" alt=\"temporal averaging\"/>\n",
    "<img src=\"viz_outputs/retina2_wavg_20_shifted.gif\" alt=\"wiener deconvolution: average\"/>\n",
    "<img src=\"viz_outputs/retina2_wdsk_20_shifted.gif\" alt=\"wiener deconvolution: disk\"/>"
   ]
  },
  {
   "cell_type": "code",
   "execution_count": 6,
   "metadata": {},
   "outputs": [],
   "source": [
    "## Uncomment this block to generate a GIF of the images\n",
    "\n",
    "# generate_gif(input_images, 'viz_outputs/retina2_original.gif')\n",
    "# generate_gif(tavg_input_images, 'viz_outputs/retina2_tvg_20.gif')\n",
    "# generate_gif(tavg_input_images, 'viz_outputs/retina2_tvg_20_shifted.gif', shift=True)\n",
    "\n",
    "# generate_gif(w_avg_input_images, 'viz_outputs/retina2_wavg_20.gif')\n",
    "# generate_gif(w_avg_input_images, 'viz_outputs/retina2_wavg_20_shifted.gif', shift=True)\n",
    "# generate_gif(w_dsk_input_images, 'viz_outputs/retina2_wdsk_20.gif')\n",
    "# generate_gif(w_dsk_input_images, 'viz_outputs/retina2_wdsk_20_shifted.gif', shift=True)"
   ]
  },
  {
   "cell_type": "code",
   "execution_count": null,
   "metadata": {},
   "outputs": [],
   "source": []
  }
 ],
 "metadata": {
  "kernelspec": {
   "display_name": "ee4208",
   "language": "python",
   "name": "python3"
  },
  "language_info": {
   "codemirror_mode": {
    "name": "ipython",
    "version": 3
   },
   "file_extension": ".py",
   "mimetype": "text/x-python",
   "name": "python",
   "nbconvert_exporter": "python",
   "pygments_lexer": "ipython3",
   "version": "3.9.16"
  },
  "orig_nbformat": 4
 },
 "nbformat": 4,
 "nbformat_minor": 2
}
